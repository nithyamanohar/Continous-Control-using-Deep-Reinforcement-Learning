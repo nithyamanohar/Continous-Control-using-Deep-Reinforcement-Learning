{
  "nbformat": 4,
  "nbformat_minor": 0,
  "metadata": {
    "colab": {
      "provenance": []
    },
    "kernelspec": {
      "name": "python3",
      "display_name": "Python 3"
    },
    "language_info": {
      "name": "python"
    },
    "accelerator": "GPU",
    "gpuClass": "standard"
  },
  "cells": [
    {
      "cell_type": "code",
      "source": [
        "pip install gym==0.7.4"
      ],
      "metadata": {
        "colab": {
          "base_uri": "https://localhost:8080/"
        },
        "id": "h9E53Zl8hfMP",
        "outputId": "7bec5836-1b79-4163-b350-73e291bd8216"
      },
      "execution_count": null,
      "outputs": [
        {
          "output_type": "stream",
          "name": "stdout",
          "text": [
            "Looking in indexes: https://pypi.org/simple, https://us-python.pkg.dev/colab-wheels/public/simple/\n",
            "Collecting gym==0.7.4\n",
            "  Downloading gym-0.7.4.tar.gz (152 kB)\n",
            "\u001b[K     |████████████████████████████████| 152 kB 10.7 MB/s \n",
            "\u001b[?25hRequirement already satisfied: numpy>=1.10.4 in /usr/local/lib/python3.8/dist-packages (from gym==0.7.4) (1.21.6)\n",
            "Requirement already satisfied: requests>=2.0 in /usr/local/lib/python3.8/dist-packages (from gym==0.7.4) (2.23.0)\n",
            "Requirement already satisfied: six in /usr/local/lib/python3.8/dist-packages (from gym==0.7.4) (1.15.0)\n",
            "Collecting pyglet>=1.2.0\n",
            "  Downloading pyglet-2.0.1-py3-none-any.whl (964 kB)\n",
            "\u001b[K     |████████████████████████████████| 964 kB 25.8 MB/s \n",
            "\u001b[?25hRequirement already satisfied: idna<3,>=2.5 in /usr/local/lib/python3.8/dist-packages (from requests>=2.0->gym==0.7.4) (2.10)\n",
            "Requirement already satisfied: urllib3!=1.25.0,!=1.25.1,<1.26,>=1.21.1 in /usr/local/lib/python3.8/dist-packages (from requests>=2.0->gym==0.7.4) (1.24.3)\n",
            "Requirement already satisfied: chardet<4,>=3.0.2 in /usr/local/lib/python3.8/dist-packages (from requests>=2.0->gym==0.7.4) (3.0.4)\n",
            "Requirement already satisfied: certifi>=2017.4.17 in /usr/local/lib/python3.8/dist-packages (from requests>=2.0->gym==0.7.4) (2022.9.24)\n",
            "Building wheels for collected packages: gym\n",
            "  Building wheel for gym (setup.py) ... \u001b[?25l\u001b[?25hdone\n",
            "  Created wheel for gym: filename=gym-0.7.4-py3-none-any.whl size=204692 sha256=e18cae76ebbf63329ce7305ce83734065e059f262f064b08534e537ebfffbd26\n",
            "  Stored in directory: /root/.cache/pip/wheels/74/77/ca/6dd62f11b2a5de609d53566cb26a4c3c0c914a3e5f21199a2f\n",
            "Successfully built gym\n",
            "Installing collected packages: pyglet, gym\n",
            "  Attempting uninstall: gym\n",
            "    Found existing installation: gym 0.25.2\n",
            "    Uninstalling gym-0.25.2:\n",
            "      Successfully uninstalled gym-0.25.2\n",
            "\u001b[31mERROR: pip's dependency resolver does not currently take into account all the packages that are installed. This behaviour is the source of the following dependency conflicts.\n",
            "dopamine-rl 1.0.5 requires gym>=0.10.5, but you have gym 0.7.4 which is incompatible.\u001b[0m\n",
            "Successfully installed gym-0.7.4 pyglet-2.0.1\n"
          ]
        }
      ]
    },
    {
      "cell_type": "code",
      "execution_count": null,
      "metadata": {
        "colab": {
          "base_uri": "https://localhost:8080/"
        },
        "id": "hP8Z28qAM-Bh",
        "outputId": "4ab3ad44-381f-4f60-e3ff-4fa84e3eb300"
      },
      "outputs": [
        {
          "output_type": "stream",
          "name": "stdout",
          "text": [
            "Using torch version: 1.13.0+cu116\n",
            "Using gym version: 0.7.4\n"
          ]
        }
      ],
      "source": [
        "import gym\n",
        "import numpy as np\n",
        "import random\n",
        "from gym import Env\n",
        "from gym.spaces import Box\n",
        "from gym.error import DependencyNotInstalled\n",
        "import torch\n",
        "from torch import nn #needed for building neural networks\n",
        "import torch.nn.functional as F #needed for activation functions\n",
        "import torch.optim as opt #needed for optimisation\n",
        "from tqdm import tqdm_notebook as tqdm\n",
        "from copy import copy, deepcopy\n",
        "from collections import deque\n",
        "print(\"Using torch version: {}\".format(torch.__version__))\n",
        "print(\"Using gym version: {}\".format(gym.__version__))"
      ]
    },
    {
      "cell_type": "code",
      "source": [
        "class ShowerEnv(Env):\n",
        "    def __init__(self):\n",
        "        # Actions we can take\n",
        "        self.max_knob = np.pi\n",
        "        # temperatures of the shower\n",
        "        self.max_temperature = 100\n",
        "        # action space\n",
        "        self.action_space = Box(low=-self.max_knob, high=self.max_knob, shape=(1,))\n",
        "        # observation_space\n",
        "        self.observation_space = Box(low=np.array([0]), high=np.array([self.max_temperature]))\n",
        "        # initial state\n",
        "        self.state = 38 + np.random.randint(-3, 3)\n",
        "        # episode length\n",
        "        self.shower_length = 60\n",
        "        self.ratio = 0.25\n",
        "        # self.max_reward = 10\n",
        "\n",
        "        self.a = -1\n",
        "        self.b = -1\n",
        "\n",
        "    def step(self, action):\n",
        "        if action < 0 and action >= -self.max_knob:\n",
        "            self.state[0] -= 1\n",
        "        if action > 0 and action <= self.max_knob:\n",
        "            self.state[0] += 1\n",
        "        self.shower_length -= 1\n",
        "\n",
        "        # calculate reward\n",
        "        # if self.state[0] == 38:\n",
        "        #     reward = 10\n",
        "        # else:\n",
        "        #     reward = self.a*(self.state[0]**2) + self.b*(self.state[0]) + 10\n",
        "        # if self.state[0] >= 37 and self.state[0] <= 39:\n",
        "        #     reward = 10\n",
        "        # else:\n",
        "        #     i = self.state[0] - 38\n",
        "        #     # print(i)\n",
        "        #     reward = -i[0]**2 + 10\n",
        "\n",
        "        if self.state[0] >= 37 and self.state[0] <= 39:\n",
        "            reward = 10\n",
        "        elif self.state[0] > 39:\n",
        "            i = self.state[0] - 38\n",
        "            reward = 10 - 2*i[0]\n",
        "        else:\n",
        "            i = self.state[0] - 38\n",
        "            reward = 10 + 2*i[0]\n",
        "\n",
        "        # check if shower is done\n",
        "        if self.shower_length <= 0:\n",
        "            done = True\n",
        "        else:\n",
        "            done = False\n",
        "\n",
        "        # Apply temperature noise\n",
        "        self.state[0] += np.random.randint(-1, 1)\n",
        "\n",
        "        # state placeholder for info\n",
        "        info = {}\n",
        "\n",
        "        # return step information\n",
        "        return self.state, reward, done, info\n",
        "\n",
        "    # def step(self, action):\n",
        "    #     if action < 0 and action >= -self.max_knob:\n",
        "    #         self.state[0] = self.state[0] - 0.25\n",
        "    #     if action > 0 and action <= self.max_knob:\n",
        "    #         self.state[0] = self.state[0] + 0.25\n",
        "    #     self.shower_length -= 1\n",
        "\n",
        "    #     # calculate reward\n",
        "    #     if self.state[0] >= 37 and self.state[0] <= 39:\n",
        "    #         reward = 10\n",
        "    #     else:\n",
        "    #         reward = self.a*(self.state[0]**2) + self.b*(self.state[0]) + 10\n",
        "        \n",
        "\n",
        "    #     # check if shower is done\n",
        "    #     if self.shower_length <= 0:\n",
        "    #         done = True\n",
        "    #     else:\n",
        "    #         done = False\n",
        "\n",
        "    #     # Apply temperature noise\n",
        "    #     self.state[0] += np.random.randint(-1, 1)\n",
        "\n",
        "    #     # state placeholder for info\n",
        "    #     info = {}\n",
        "\n",
        "    #     # return step information\n",
        "    #     return self.state, reward, done, info\n",
        "\n",
        "    def render(self):\n",
        "        # visulization Implementation\n",
        "        pass\n",
        "    def reset(self):\n",
        "        self.state = np.array([38 + np.random.randint(-3, 3)]).reshape((1,1))\n",
        "        self.shower_length = 60\n",
        "        return self.state"
      ],
      "metadata": {
        "id": "tAN-in-QOcfE"
      },
      "execution_count": null,
      "outputs": []
    },
    {
      "cell_type": "code",
      "source": [
        "env = ShowerEnv()"
      ],
      "metadata": {
        "id": "OlrYRdrRZmCf",
        "colab": {
          "base_uri": "https://localhost:8080/"
        },
        "outputId": "7769bcf5-57a7-44cd-b360-fe8b09f7234c"
      },
      "execution_count": null,
      "outputs": [
        {
          "output_type": "stream",
          "name": "stderr",
          "text": [
            "Exception ignored in: <function Env.__del__ at 0x7f4fa68a3820>\n",
            "Traceback (most recent call last):\n",
            "  File \"/usr/local/lib/python3.8/dist-packages/gym/core.py\", line 252, in __del__\n",
            "  File \"/usr/local/lib/python3.8/dist-packages/gym/core.py\", line 188, in close\n",
            "TypeError: render() got an unexpected keyword argument 'close'\n"
          ]
        }
      ]
    },
    {
      "cell_type": "code",
      "source": [
        "a = env.observation_space.sample()[0]\n",
        "a"
      ],
      "metadata": {
        "colab": {
          "base_uri": "https://localhost:8080/"
        },
        "id": "v3kIpJk1xr4m",
        "outputId": "248e0890-4fba-44f7-9bce-6a841ba88c6f"
      },
      "execution_count": null,
      "outputs": [
        {
          "output_type": "execute_result",
          "data": {
            "text/plain": [
              "55.59850547971865"
            ]
          },
          "metadata": {},
          "execution_count": 99
        }
      ]
    },
    {
      "cell_type": "code",
      "source": [
        "BUFFER_SIZE=1000000\n",
        "BATCH_SIZE=64\n",
        "GAMMA=0.99\n",
        "TAU=0.001       #Target Network HyperParameters Update rate\n",
        "LRA=0.0001      #LEARNING RATE ACTOR\n",
        "LRC=0.001       #LEARNING RATE CRITIC\n",
        "H1=400   #neurons of 1st layers\n",
        "H2=300   #neurons of 2nd layers\n",
        "\n",
        "MAX_EPISODES=2000 #number of episodes of the training\n",
        "MAX_STEPS=200    #max steps to finish an episode. An episode breaks early if some break conditions are met (like too much\n",
        "                  #amplitude of the joints angles or if a failure occurs). In the case of pendulum there is no break \n",
        "                #condition, hence no environment reset,  so we just put 1 step per episode. \n",
        "buffer_start = 100 #initial warmup without training\n",
        "epsilon = 1\n",
        "epsilon_decay = 1./100000 #this is ok for a simple task like inverted pendulum, but maybe this would be set to zero for more\n",
        "                     #complex tasks like Hopper; epsilon is a decay for the exploration and noise applied to the action is \n",
        "                     #weighted by this decay. In more complex tasks we need the exploration to not vanish so we set the decay\n",
        "                     #to zero.\n",
        "PRINT_EVERY = 10 #Print info about average reward every PRINT_EVERY\n",
        "\n",
        "ENV_NAME = 'HalfCheetah-v1' # Put here the gym env name you want to play with\n",
        "#check other environments to play with at https://gym.openai.com/envs/#mujoco"
      ],
      "metadata": {
        "id": "dHPdRmG6doxQ"
      },
      "execution_count": null,
      "outputs": []
    },
    {
      "cell_type": "code",
      "source": [
        "class replayBuffer(object):\n",
        "    def __init__(self, buffer_size, name_buffer=''):\n",
        "        self.buffer_size=buffer_size  #choose buffer size\n",
        "        self.num_exp=0\n",
        "        self.buffer=deque()\n",
        "\n",
        "    def add(self, s, a, r, t, s2):\n",
        "        experience=(s, a, r, t, s2)\n",
        "        if self.num_exp < self.buffer_size:\n",
        "            self.buffer.append(experience)\n",
        "            self.num_exp +=1\n",
        "        else:\n",
        "            self.buffer.popleft()\n",
        "            self.buffer.append(experience)\n",
        "\n",
        "    def size(self):\n",
        "        return self.buffer_size\n",
        "\n",
        "    def count(self):\n",
        "        return self.num_exp\n",
        "\n",
        "    def sample(self, batch_size):\n",
        "        if self.num_exp < batch_size:\n",
        "            batch=random.sample(self.buffer, self.num_exp)\n",
        "        else:\n",
        "            batch=random.sample(self.buffer, batch_size)\n",
        "\n",
        "        s, a, r, t, s2 = map(np.stack, zip(*batch))\n",
        "\n",
        "        return s, a, r, t, s2\n",
        "\n",
        "    def clear(self):\n",
        "        self.buffer = deque()\n",
        "        self.num_exp=0"
      ],
      "metadata": {
        "id": "YMtCL4Q2duj6"
      },
      "execution_count": null,
      "outputs": []
    },
    {
      "cell_type": "code",
      "source": [
        "#set GPU for faster training\n",
        "cuda = torch.cuda.is_available() #check for CUDA\n",
        "device   = torch.device(\"cuda\" if cuda else \"cpu\")\n",
        "print(\"Job will run on {}\".format(device))"
      ],
      "metadata": {
        "colab": {
          "base_uri": "https://localhost:8080/"
        },
        "id": "WpR2ary9lEU4",
        "outputId": "b585791f-f49a-4744-c274-41c9e433dcfc"
      },
      "execution_count": null,
      "outputs": [
        {
          "output_type": "stream",
          "name": "stdout",
          "text": [
            "Job will run on cuda\n"
          ]
        }
      ]
    },
    {
      "cell_type": "code",
      "source": [
        "def fanin_(size):\n",
        "    fan_in = size[0]\n",
        "    weight = 1./np.sqrt(fan_in)\n",
        "    return torch.Tensor(size).uniform_(-weight, weight)\n",
        "\n",
        "class Critic(nn.Module):\n",
        "    def __init__(self, state_dim, action_dim, h1=H1, h2=H2, init_w=3e-3):\n",
        "        super(Critic, self).__init__()\n",
        "                \n",
        "        self.linear1 = nn.Linear(state_dim, h1)\n",
        "        self.linear1.weight.data = fanin_(self.linear1.weight.data.size())\n",
        "        \n",
        "        #self.bn1 = nn.BatchNorm1d(h1)\n",
        "        \n",
        "        self.linear2 = nn.Linear(h1+action_dim, h2)\n",
        "        self.linear2.weight.data = fanin_(self.linear2.weight.data.size())\n",
        "                \n",
        "        self.linear3 = nn.Linear(h2, 1)\n",
        "        self.linear3.weight.data.uniform_(-init_w, init_w)\n",
        "\n",
        "        self.relu = nn.ReLU()\n",
        "        \n",
        "    def forward(self, state, action):\n",
        "        x = self.linear1(state)\n",
        "        x = self.relu(x)\n",
        "        # print(f'state_size: {x.shape}')\n",
        "        # print(f'action_size: {action.shape}')\n",
        "        # print(f'concat_size: {torch.cat([x, action], 2).shape}')\n",
        "        # x = self.linear2(torch.cat([x,action],1))\n",
        "        x = self.linear2(torch.cat([x,action],2))\n",
        "        x = self.relu(x)\n",
        "        x = self.linear3(x)\n",
        "        \n",
        "        return x"
      ],
      "metadata": {
        "id": "OybAblA0lJJ7"
      },
      "execution_count": null,
      "outputs": []
    },
    {
      "cell_type": "code",
      "source": [
        "class Actor(nn.Module): \n",
        "    def __init__(self, state_dim, action_dim, h1=H1, h2=H2, init_w=0.003):\n",
        "        super(Actor, self).__init__()\n",
        "        \n",
        "        #self.bn0 = nn.BatchNorm1d(state_dim)\n",
        "        \n",
        "        self.linear1 = nn.Linear(state_dim, h1)\n",
        "        self.linear1.weight.data = fanin_(self.linear1.weight.data.size())\n",
        "        \n",
        "        #self.bn1 = nn.BatchNorm1d(h1)\n",
        "        \n",
        "        self.linear2 = nn.Linear(h1, h2)\n",
        "        self.linear2.weight.data = fanin_(self.linear2.weight.data.size())\n",
        "        \n",
        "        #self.bn2 = nn.BatchNorm1d(h2)\n",
        "        \n",
        "        self.linear3 = nn.Linear(h2, action_dim)\n",
        "        self.linear3.weight.data.uniform_(-init_w, init_w)\n",
        "\n",
        "        self.relu = nn.ReLU()\n",
        "        self.tanh = nn.Tanh()\n",
        "        \n",
        "    def forward(self, state):\n",
        "        #state = self.bn0(state)\n",
        "        x = self.linear1(state)\n",
        "        x = self.relu(x)\n",
        "        x = self.linear2(x)\n",
        "        x = self.relu(x)\n",
        "        x = self.linear3(x)\n",
        "        x = self.tanh(x)\n",
        "        return x\n",
        "    \n",
        "    def get_action(self, state):\n",
        "        state = torch.FloatTensor(state).unsqueeze(0).to(device)\n",
        "        action = self.forward(state)\n",
        "        return action.detach().cpu().numpy()[0]"
      ],
      "metadata": {
        "id": "slTFGHcWlOuc"
      },
      "execution_count": null,
      "outputs": []
    },
    {
      "cell_type": "code",
      "source": [
        "class OrnsteinUhlenbeckActionNoise:\n",
        "    def __init__(self, mu=0, sigma=0.2, theta=.15, dt=1e-2, x0=None):\n",
        "        self.theta = theta\n",
        "        self.mu = mu\n",
        "        self.sigma = sigma\n",
        "        self.dt = dt\n",
        "        self.x0 = x0\n",
        "        self.reset()\n",
        "\n",
        "    def __call__(self):\n",
        "        x = self.x_prev + self.theta * (self.mu - self.x_prev) * self.dt + self.sigma * np.sqrt(self.dt) * np.random.normal(size=self.mu.shape)\n",
        "        self.x_prev = x\n",
        "        return x\n",
        "\n",
        "    def reset(self):\n",
        "        self.x_prev = self.x0 if self.x0 is not None else np.zeros_like(self.mu)\n",
        "\n",
        "    def __repr__(self):\n",
        "        return 'OrnsteinUhlenbeckActionNoise(mu={}, sigma={})'.format(self.mu, self.sigma)"
      ],
      "metadata": {
        "id": "IK5Kg_6qlTMD"
      },
      "execution_count": null,
      "outputs": []
    },
    {
      "cell_type": "code",
      "source": [
        "class NormalizedEnv(gym.ActionWrapper):\n",
        "    \"\"\" Wrap action \"\"\"\n",
        "\n",
        "    def _action(self, action):\n",
        "        act_k = (self.action_space.high - self.action_space.low)/ 2.\n",
        "        act_b = (self.action_space.high + self.action_space.low)/ 2.\n",
        "        return act_k * action + act_b\n",
        "\n",
        "    def _reverse_action(self, action):\n",
        "        act_k_inv = 2./(self.action_space.high - self.action_space.low)\n",
        "        act_b = (self.action_space.high + self.action_space.low)/ 2.\n",
        "        return act_k_inv * (action - act_b)"
      ],
      "metadata": {
        "id": "HBP_18jrlX0f"
      },
      "execution_count": null,
      "outputs": []
    },
    {
      "cell_type": "code",
      "source": [
        "# env = NormalizedEnv(gym.make(ENV_NAME))\n",
        "\n",
        "env.reset()\n",
        "# env.render()\n",
        "\n",
        "state_dim = env.observation_space.shape[0]\n",
        "action_dim = env.action_space.shape[0]\n",
        "\n",
        "print(\"State dim: {}, Action dim: {}\".format(state_dim, action_dim))\n",
        "\n",
        "noise = OrnsteinUhlenbeckActionNoise(mu=np.zeros(action_dim))\n",
        "\n",
        "critic  = Critic(state_dim, action_dim).to(device)\n",
        "actor = Actor(state_dim, action_dim).to(device)\n",
        "\n",
        "target_critic  = Critic(state_dim, action_dim).to(device)\n",
        "target_actor = Actor(state_dim, action_dim).to(device)\n",
        "\n",
        "for target_param, param in zip(target_critic.parameters(), critic.parameters()):\n",
        "    target_param.data.copy_(param.data)\n",
        "\n",
        "for target_param, param in zip(target_actor.parameters(), actor.parameters()):\n",
        "    target_param.data.copy_(param.data)\n",
        "    \n",
        "q_optimizer  = opt.Adam(critic.parameters(),  lr=LRC) #, weight_decay=0.01)\n",
        "policy_optimizer = opt.Adam(actor.parameters(), lr=LRA)\n",
        "\n",
        "MSE = nn.MSELoss()\n",
        "\n",
        "memory = replayBuffer(BUFFER_SIZE)"
      ],
      "metadata": {
        "colab": {
          "base_uri": "https://localhost:8080/"
        },
        "id": "pc4czAFNlb4j",
        "outputId": "314c29f9-931a-45f0-fc72-e1ae7a0140d4"
      },
      "execution_count": null,
      "outputs": [
        {
          "output_type": "stream",
          "name": "stdout",
          "text": [
            "State dim: 1, Action dim: 1\n"
          ]
        }
      ]
    },
    {
      "cell_type": "code",
      "source": [
        "from matplotlib import pyplot as plt\n",
        "from IPython.display import clear_output\n",
        "%matplotlib inline\n",
        "\n",
        "def subplot(R, P, Q, S):\n",
        "    r = list(zip(*R))\n",
        "    p = list(zip(*P))\n",
        "    q = list(zip(*Q))\n",
        "    s = list(zip(*S))\n",
        "    clear_output(wait=True)\n",
        "    \n",
        "    fig, ax = plt.subplots(nrows=2, ncols=2, figsize=(15,15))\n",
        "\n",
        "    ax[0, 0].plot(list(r[1]), list(r[0]), 'r') #row=0, col=0\n",
        "    ax[1, 0].plot(list(p[1]), list(p[0]), 'b') #row=1, col=0\n",
        "    ax[0, 1].plot(list(q[1]), list(q[0]), 'g') #row=0, col=1\n",
        "    ax[1, 1].plot(list(s[1]), list(s[0]), 'k') #row=1, col=1\n",
        "    ax[0, 0].title.set_text('Reward')\n",
        "    ax[1, 0].title.set_text('Policy loss')\n",
        "    ax[0, 1].title.set_text('Q loss')\n",
        "    ax[1, 1].title.set_text('Max steps')\n",
        "    plt.show()"
      ],
      "metadata": {
        "id": "5LdnnKgKlmrb"
      },
      "execution_count": null,
      "outputs": []
    },
    {
      "cell_type": "code",
      "source": [
        "episodes = 10\n",
        "for episode in range(0, episodes):\n",
        "    state = env.reset()\n",
        "    done = False\n",
        "    score = 0\n",
        "\n",
        "    while not done:\n",
        "        action = env.action_space.sample()\n",
        "        n_state, reward, done, info = env.step(action)\n",
        "        score += reward\n",
        "    print(f'episode: {episode}, score: {score}')"
      ],
      "metadata": {
        "colab": {
          "base_uri": "https://localhost:8080/"
        },
        "id": "2SEcHzNMmoew",
        "outputId": "c44af666-1aad-4667-9055-7e918796d511"
      },
      "execution_count": null,
      "outputs": [
        {
          "output_type": "stream",
          "name": "stdout",
          "text": [
            "episode: 0, score: -1534\n",
            "episode: 1, score: -1624\n",
            "episode: 2, score: -1622\n",
            "episode: 3, score: -350\n",
            "episode: 4, score: -1500\n",
            "episode: 5, score: -1398\n",
            "episode: 6, score: -1750\n",
            "episode: 7, score: -348\n",
            "episode: 8, score: -1292\n",
            "episode: 9, score: -468\n"
          ]
        }
      ]
    },
    {
      "cell_type": "code",
      "source": [
        "plot_reward = []\n",
        "plot_policy = []\n",
        "plot_q = []\n",
        "plot_steps = []\n",
        "\n",
        "\n",
        "best_reward = -np.inf\n",
        "saved_reward = -np.inf\n",
        "saved_ep = 0\n",
        "average_reward = 0\n",
        "global_step = 0\n",
        "#s = deepcopy(env.reset())\n",
        "\n",
        "for episode in range(MAX_EPISODES):\n",
        "    #print(episode)\n",
        "    # s = deepcopy(env.reset())\n",
        "    s = env.reset()\n",
        "    #noise.reset()\n",
        "    done = False\n",
        "    ep_reward = 0.\n",
        "    ep_q_value = 0.\n",
        "    step=0\n",
        "\n",
        "    for step in range(MAX_STEPS):\n",
        "        #loss=0\n",
        "        global_step +=1\n",
        "        epsilon -= epsilon_decay\n",
        "        #actor.eval()\n",
        "        a = actor.get_action(s)\n",
        "        #actor.train()\n",
        "\n",
        "        a += noise()*max(0, epsilon)\n",
        "        a = np.clip(a, -1., 1.)\n",
        "        # env.render()\n",
        "        s2, reward, terminal, info = env.step(a)\n",
        "\n",
        "        memory.add(s, a, reward, terminal,s2)\n",
        "\n",
        "        #keep adding experiences to the memory until there are at least minibatch size samples\n",
        "\n",
        "        if memory.count() > buffer_start:\n",
        "            s_batch, a_batch, r_batch, t_batch, s2_batch = memory.sample(BATCH_SIZE)\n",
        "\n",
        "            s_batch = torch.FloatTensor(s_batch).to(device)\n",
        "            a_batch = torch.FloatTensor(a_batch).to(device)\n",
        "            r_batch = torch.FloatTensor(r_batch).unsqueeze(1).to(device)\n",
        "            t_batch = torch.FloatTensor(np.float32(t_batch)).unsqueeze(1).to(device)\n",
        "            s2_batch = torch.FloatTensor(s2_batch).to(device)\n",
        "            \n",
        "            \n",
        "            #compute loss for critic\n",
        "            a2_batch = target_actor(s2_batch)\n",
        "            # print(f'action_size:{a2_batch.shape}')\n",
        "            # print(f'state_size:{s2_batch.shape}')\n",
        "            a = torch.cat([s2_batch, a2_batch])\n",
        "            # print(f'concat_size: {a.shape}')\n",
        "            target_q = target_critic(s2_batch, a2_batch) #detach to avoid updating target\n",
        "            y = r_batch + (1.0 - t_batch) * GAMMA * target_q.detach()\n",
        "            q = critic(s_batch, a_batch)\n",
        "            \n",
        "            q_optimizer.zero_grad()\n",
        "            q_loss = MSE(q, y) #detach to avoid updating target\n",
        "            q_loss.backward()\n",
        "            q_optimizer.step()\n",
        "            \n",
        "            #compute loss for actor\n",
        "            policy_optimizer.zero_grad()\n",
        "            policy_loss = -critic(s_batch, actor(s_batch))\n",
        "            policy_loss = policy_loss.mean()\n",
        "            policy_loss.backward()\n",
        "            policy_optimizer.step()\n",
        "\n",
        "            #soft update of the frozen target networks\n",
        "            for target_param, param in zip(target_critic.parameters(), critic.parameters()):\n",
        "                target_param.data.copy_(\n",
        "                    target_param.data * (1.0 - TAU) + param.data * TAU\n",
        "                )\n",
        "\n",
        "            for target_param, param in zip(target_actor.parameters(), actor.parameters()):\n",
        "                target_param.data.copy_(\n",
        "                    target_param.data * (1.0 - TAU) + param.data * TAU\n",
        "                )\n",
        "\n",
        "        s = deepcopy(s2)\n",
        "        ep_reward += reward\n",
        "\n",
        "    try:\n",
        "        plot_reward.append([ep_reward, episode+1])\n",
        "        plot_policy.append([policy_loss.cpu().data, episode+1])\n",
        "        plot_q.append([q_loss.cpu().data, episode+1])\n",
        "        plot_steps.append([step+1, episode+1])\n",
        "    except:\n",
        "        continue\n",
        "    average_reward += ep_reward\n",
        "    \n",
        "    if ep_reward > best_reward:\n",
        "        torch.save(actor.state_dict(), 'best_model_pendulum.pkl') #Save the actor model for future testing\n",
        "        best_reward = ep_reward\n",
        "        saved_reward = ep_reward\n",
        "        saved_ep = episode+1\n",
        "\n",
        "    if (episode % PRINT_EVERY) == (PRINT_EVERY-1):    # print every print_every episodes\n",
        "        subplot(plot_reward, plot_policy, plot_q, plot_steps)\n",
        "        print('[%6d episode, %8d total steps] average reward for past {} iterations: %.3f'.format(PRINT_EVERY) %\n",
        "            (episode + 1, global_step, average_reward / PRINT_EVERY))\n",
        "        print(\"Last model saved with reward: {:.2f}, at episode {}.\".format(saved_reward, saved_ep))\n",
        "        average_reward = 0 #reset average reward"
      ],
      "metadata": {
        "colab": {
          "base_uri": "https://localhost:8080/",
          "height": 915
        },
        "id": "Dk-Cq-W0lopd",
        "outputId": "1ea45fa2-1167-4b20-f1b7-75fa6806cc30"
      },
      "execution_count": null,
      "outputs": [
        {
          "output_type": "display_data",
          "data": {
            "text/plain": [
              "<Figure size 1080x1080 with 4 Axes>"
            ],
            "image/png": "[encoded data removed]"
          },
          "metadata": {
            "needs_background": "light"
          }
        },
        {
          "output_type": "stream",
          "name": "stdout",
          "text": [
            "[  2000 episode,   400000 total steps] average reward for past 10 iterations: -17901.000\n",
            "Last model saved with reward: -10510.00, at episode 64.\n"
          ]
        }
      ]
    },
    {
      "cell_type": "code",
      "source": [],
      "metadata": {
        "id": "LLg-hF5imIwM"
      },
      "execution_count": null,
      "outputs": []
    }
  ]
}